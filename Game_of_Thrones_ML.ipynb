{
  "nbformat": 4,
  "nbformat_minor": 0,
  "metadata": {
    "kernelspec": {
      "display_name": "Python 3",
      "language": "python",
      "name": "python3"
    },
    "language_info": {
      "codemirror_mode": {
        "name": "ipython",
        "version": 3
      },
      "file_extension": ".py",
      "mimetype": "text/x-python",
      "name": "python",
      "nbconvert_exporter": "python",
      "pygments_lexer": "ipython3",
      "version": "3.8.5"
    },
    "colab": {
      "name": "Game of Thrones ML",
      "provenance": [],
      "toc_visible": true
    },
    "accelerator": "GPU"
  },
  "cells": [
    {
      "cell_type": "markdown",
      "metadata": {
        "id": "Q9N6MNUFmSex"
      },
      "source": [
        "# Game of Thrones Character Prediction"
      ]
    },
    {
      "cell_type": "code",
      "metadata": {
        "id": "HYqkDWI4G3ke",
        "colab": {
          "base_uri": "https://localhost:8080/"
        },
        "outputId": "39a08cd1-b6a9-452e-f691-e0487e8402a6"
      },
      "source": [
        "\n",
        "! [ -e /content ] && pip install -Uqq fastai  # upgrade fastai on colab"
      ],
      "execution_count": 1,
      "outputs": [
        {
          "output_type": "stream",
          "text": [
            "\u001b[K     |████████████████████████████████| 204kB 29.6MB/s \n",
            "\u001b[K     |████████████████████████████████| 61kB 5.9MB/s \n",
            "\u001b[?25h"
          ],
          "name": "stdout"
        }
      ]
    },
    {
      "cell_type": "code",
      "metadata": {
        "colab": {
          "base_uri": "https://localhost:8080/",
          "height": 806
        },
        "id": "bmKnTh9FHQlb",
        "outputId": "4825aacf-e0b9-4748-f81c-701e7d6fbc38"
      },
      "source": [
        "\n",
        "#Jeff Braga\n",
        "#May 30, 2021\n",
        "from fastai.tabular.all import *\n",
        "from fastai.text.all import *\n",
        "import nltk\n",
        "\n",
        "from nltk.corpus import stopwords\n",
        "nltk.download('stopwords')\n",
        "stop_words = set(stopwords.words(\"english\"))\n",
        "\n",
        "\n",
        "\n",
        "##Read in data and preprocess\n",
        "df = pd.read_csv('data/got_scripts_breakdown.csv', delimiter=\";\", error_bad_lines=False)\n",
        "df.head()\n",
        "\n",
        "mainChars = [\"jon\", \"jorah\"]\n",
        "\n",
        "cleanedData = pd.DataFrame(columns=[\"Sentence\", \"Character\"])\n",
        "\n",
        "for index, row in df.iterrows():\n",
        "  if row[\"Name\"] not in mainChars:\n",
        "    #cleanedData.append(row[\"Sentence\"], row[\"Name\"])\n",
        "    df = df.drop(index,axis=0)\n",
        "  else:\n",
        "    tempSent = row[\"Sentence\"]\n",
        "    for word in list(tempSent):  # iterating on a copy since removing will mess things up\n",
        "      if (word in stop_words):\n",
        "        tempSent.replace(word, \"\")\n",
        "      row[\"Sentence\"] = tempSent\n",
        "\n",
        "df\n"
      ],
      "execution_count": 3,
      "outputs": [
        {
          "output_type": "stream",
          "text": [
            "[nltk_data] Downloading package stopwords to /root/nltk_data...\n",
            "[nltk_data]   Unzipping corpora/stopwords.zip.\n"
          ],
          "name": "stdout"
        },
        {
          "output_type": "execute_result",
          "data": {
            "text/html": [
              "<div>\n",
              "<style scoped>\n",
              "    .dataframe tbody tr th:only-of-type {\n",
              "        vertical-align: middle;\n",
              "    }\n",
              "\n",
              "    .dataframe tbody tr th {\n",
              "        vertical-align: top;\n",
              "    }\n",
              "\n",
              "    .dataframe thead th {\n",
              "        text-align: right;\n",
              "    }\n",
              "</style>\n",
              "<table border=\"1\" class=\"dataframe\">\n",
              "  <thead>\n",
              "    <tr style=\"text-align: right;\">\n",
              "      <th></th>\n",
              "      <th>Column1</th>\n",
              "      <th>Season</th>\n",
              "      <th>Episode</th>\n",
              "      <th>Sentence</th>\n",
              "      <th>Name</th>\n",
              "      <th>N_serie</th>\n",
              "      <th>N_Season</th>\n",
              "      <th>Emision Date</th>\n",
              "    </tr>\n",
              "  </thead>\n",
              "  <tbody>\n",
              "    <tr>\n",
              "      <th>15</th>\n",
              "      <td>16</td>\n",
              "      <td>Season 1</td>\n",
              "      <td>winter is coming</td>\n",
              "      <td>Go on Father’s watching</td>\n",
              "      <td>jon</td>\n",
              "      <td>1</td>\n",
              "      <td>1</td>\n",
              "      <td>17/04/2011</td>\n",
              "    </tr>\n",
              "    <tr>\n",
              "      <th>16</th>\n",
              "      <td>17</td>\n",
              "      <td>Season 1</td>\n",
              "      <td>winter is coming</td>\n",
              "      <td>And your mother</td>\n",
              "      <td>jon</td>\n",
              "      <td>1</td>\n",
              "      <td>1</td>\n",
              "      <td>17/04/2011</td>\n",
              "    </tr>\n",
              "    <tr>\n",
              "      <th>21</th>\n",
              "      <td>22</td>\n",
              "      <td>Season 1</td>\n",
              "      <td>winter is coming</td>\n",
              "      <td>Don’t think too much, Bran</td>\n",
              "      <td>jon</td>\n",
              "      <td>1</td>\n",
              "      <td>1</td>\n",
              "      <td>17/04/2011</td>\n",
              "    </tr>\n",
              "    <tr>\n",
              "      <th>37</th>\n",
              "      <td>38</td>\n",
              "      <td>Season 1</td>\n",
              "      <td>winter is coming</td>\n",
              "      <td>Don’t look away</td>\n",
              "      <td>jon</td>\n",
              "      <td>1</td>\n",
              "      <td>1</td>\n",
              "      <td>17/04/2011</td>\n",
              "    </tr>\n",
              "    <tr>\n",
              "      <th>39</th>\n",
              "      <td>40</td>\n",
              "      <td>Season 1</td>\n",
              "      <td>winter is coming</td>\n",
              "      <td>Father will know if you do</td>\n",
              "      <td>jon</td>\n",
              "      <td>1</td>\n",
              "      <td>1</td>\n",
              "      <td>17/04/2011</td>\n",
              "    </tr>\n",
              "    <tr>\n",
              "      <th>...</th>\n",
              "      <td>...</td>\n",
              "      <td>...</td>\n",
              "      <td>...</td>\n",
              "      <td>...</td>\n",
              "      <td>...</td>\n",
              "      <td>...</td>\n",
              "      <td>...</td>\n",
              "      <td>...</td>\n",
              "    </tr>\n",
              "    <tr>\n",
              "      <th>22351</th>\n",
              "      <td>22352</td>\n",
              "      <td>Season 7</td>\n",
              "      <td>the dragon and the wolf</td>\n",
              "      <td>Our father was more of a father</td>\n",
              "      <td>jon</td>\n",
              "      <td>67</td>\n",
              "      <td>7</td>\n",
              "      <td>27/08/2017</td>\n",
              "    </tr>\n",
              "    <tr>\n",
              "      <th>22353</th>\n",
              "      <td>22354</td>\n",
              "      <td>Season 7</td>\n",
              "      <td>the dragon and the wolf</td>\n",
              "      <td>And you betrayed him Betrayed his memory</td>\n",
              "      <td>jon</td>\n",
              "      <td>67</td>\n",
              "      <td>7</td>\n",
              "      <td>27/08/2017</td>\n",
              "    </tr>\n",
              "    <tr>\n",
              "      <th>22355</th>\n",
              "      <td>22356</td>\n",
              "      <td>Season 7</td>\n",
              "      <td>the dragon and the wolf</td>\n",
              "      <td>But you never lost him Hes a part of you Just like hes a part of me</td>\n",
              "      <td>jon</td>\n",
              "      <td>67</td>\n",
              "      <td>7</td>\n",
              "      <td>27/08/2017</td>\n",
              "    </tr>\n",
              "    <tr>\n",
              "      <th>22357</th>\n",
              "      <td>22358</td>\n",
              "      <td>Season 7</td>\n",
              "      <td>the dragon and the wolf</td>\n",
              "      <td>Its not my place to forgive you for all of it But what I can forgive, I do You dont need to choose Youre a Greyjoy and youre a Stark</td>\n",
              "      <td>jon</td>\n",
              "      <td>67</td>\n",
              "      <td>7</td>\n",
              "      <td>27/08/2017</td>\n",
              "    </tr>\n",
              "    <tr>\n",
              "      <th>22359</th>\n",
              "      <td>22360</td>\n",
              "      <td>Season 7</td>\n",
              "      <td>the dragon and the wolf</td>\n",
              "      <td>So, why are you still talking to me?</td>\n",
              "      <td>jon</td>\n",
              "      <td>67</td>\n",
              "      <td>7</td>\n",
              "      <td>27/08/2017</td>\n",
              "    </tr>\n",
              "  </tbody>\n",
              "</table>\n",
              "<p>1305 rows × 8 columns</p>\n",
              "</div>"
            ],
            "text/plain": [
              "       Column1    Season  ... N_Season Emision Date\n",
              "15          16  Season 1  ...        1   17/04/2011\n",
              "16          17  Season 1  ...        1   17/04/2011\n",
              "21          22  Season 1  ...        1   17/04/2011\n",
              "37          38  Season 1  ...        1   17/04/2011\n",
              "39          40  Season 1  ...        1   17/04/2011\n",
              "...        ...       ...  ...      ...          ...\n",
              "22351    22352  Season 7  ...        7   27/08/2017\n",
              "22353    22354  Season 7  ...        7   27/08/2017\n",
              "22355    22356  Season 7  ...        7   27/08/2017\n",
              "22357    22358  Season 7  ...        7   27/08/2017\n",
              "22359    22360  Season 7  ...        7   27/08/2017\n",
              "\n",
              "[1305 rows x 8 columns]"
            ]
          },
          "metadata": {
            "tags": []
          },
          "execution_count": 3
        }
      ]
    },
    {
      "cell_type": "code",
      "metadata": {
        "colab": {
          "base_uri": "https://localhost:8080/"
        },
        "id": "I7FR3BQ5moIo",
        "outputId": "a0808fb1-2188-4b69-e15f-5d0d04dff472"
      },
      "source": [
        "#Sanity Check\n",
        "df.Name.unique()"
      ],
      "execution_count": 5,
      "outputs": [
        {
          "output_type": "execute_result",
          "data": {
            "text/plain": [
              "array(['jon', 'jorah'], dtype=object)"
            ]
          },
          "metadata": {
            "tags": []
          },
          "execution_count": 5
        }
      ]
    },
    {
      "cell_type": "code",
      "metadata": {
        "colab": {
          "base_uri": "https://localhost:8080/",
          "height": 74
        },
        "id": "zhUSQKUOq0dP",
        "outputId": "5403389b-36e8-4ef8-adca-0e8c0a1d692f"
      },
      "source": [
        "dls_lm = TextDataLoaders.from_df(df, \n",
        "                                 text_col = 'Sentence', \n",
        "                                 label_col = 'Name', \n",
        "                                 valid_pct = 0.20, \n",
        "                                 bs = 64, \n",
        "                                 is_lm = True)\n",
        "\n",
        "\n"
      ],
      "execution_count": 6,
      "outputs": [
        {
          "output_type": "display_data",
          "data": {
            "text/html": [
              ""
            ],
            "text/plain": [
              "<IPython.core.display.HTML object>"
            ]
          },
          "metadata": {
            "tags": []
          }
        },
        {
          "output_type": "stream",
          "text": [
            "/usr/local/lib/python3.7/dist-packages/numpy/core/_asarray.py:83: VisibleDeprecationWarning: Creating an ndarray from ragged nested sequences (which is a list-or-tuple of lists-or-tuples-or ndarrays with different lengths or shapes) is deprecated. If you meant to do this, you must specify 'dtype=object' when creating the ndarray\n",
            "  return array(a, dtype, copy=False, order=order)\n"
          ],
          "name": "stderr"
        }
      ]
    },
    {
      "cell_type": "code",
      "metadata": {
        "colab": {
          "base_uri": "https://localhost:8080/",
          "height": 165
        },
        "id": "j0E5aiMvwAsz",
        "outputId": "4ec8a15c-9475-4358-ea2e-0e0904ee4c08"
      },
      "source": [
        "#See an example\n",
        "dls_lm.show_batch(max_n = 1)"
      ],
      "execution_count": 7,
      "outputs": [
        {
          "output_type": "display_data",
          "data": {
            "text/html": [
              "<table border=\"1\" class=\"dataframe\">\n",
              "  <thead>\n",
              "    <tr style=\"text-align: right;\">\n",
              "      <th></th>\n",
              "      <th>text</th>\n",
              "      <th>text_</th>\n",
              "    </tr>\n",
              "  </thead>\n",
              "  <tbody>\n",
              "    <tr>\n",
              "      <th>0</th>\n",
              "      <td>xxbos xxmaj my xxunk think xxmaj i m a fool for coming here xxbos xxmaj we fight with the army we have xxbos xxmaj what are you doing ? xxbos xxmaj they xxunk the gate xxmaj get some brothers down here to help you xxmaj you need to burn the xxunk xxmaj xxunk the xxunk gate , then xxunk it again as soon as xxmaj i m out xxbos xxmaj yes ,</td>\n",
              "      <td>xxmaj my xxunk think xxmaj i m a fool for coming here xxbos xxmaj we fight with the army we have xxbos xxmaj what are you doing ? xxbos xxmaj they xxunk the gate xxmaj get some brothers down here to help you xxmaj you need to burn the xxunk xxmaj xxunk the xxunk gate , then xxunk it again as soon as xxmaj i m out xxbos xxmaj yes , he</td>\n",
              "    </tr>\n",
              "  </tbody>\n",
              "</table>"
            ],
            "text/plain": [
              "<IPython.core.display.HTML object>"
            ]
          },
          "metadata": {
            "tags": []
          }
        }
      ]
    },
    {
      "cell_type": "code",
      "metadata": {
        "id": "7Z9AFZGwwDsK",
        "colab": {
          "base_uri": "https://localhost:8080/",
          "height": 17
        },
        "outputId": "d461a294-902e-41bc-819b-00937f06da04"
      },
      "source": [
        "learn = language_model_learner(dls_lm, AWD_LSTM, drop_mult = 0.3)"
      ],
      "execution_count": 8,
      "outputs": [
        {
          "output_type": "display_data",
          "data": {
            "text/html": [
              ""
            ],
            "text/plain": [
              "<IPython.core.display.HTML object>"
            ]
          },
          "metadata": {
            "tags": []
          }
        }
      ]
    },
    {
      "cell_type": "code",
      "metadata": {
        "colab": {
          "base_uri": "https://localhost:8080/",
          "height": 348
        },
        "id": "QRo0X6T0wGaN",
        "outputId": "56e78f09-54e4-4e6f-9e6a-9c54603ab4d2"
      },
      "source": [
        "learn.fit_one_cycle(10, 1e-2)"
      ],
      "execution_count": 9,
      "outputs": [
        {
          "output_type": "display_data",
          "data": {
            "text/html": [
              "<table border=\"1\" class=\"dataframe\">\n",
              "  <thead>\n",
              "    <tr style=\"text-align: left;\">\n",
              "      <th>epoch</th>\n",
              "      <th>train_loss</th>\n",
              "      <th>valid_loss</th>\n",
              "      <th>time</th>\n",
              "    </tr>\n",
              "  </thead>\n",
              "  <tbody>\n",
              "    <tr>\n",
              "      <td>0</td>\n",
              "      <td>5.053605</td>\n",
              "      <td>5.036045</td>\n",
              "      <td>00:01</td>\n",
              "    </tr>\n",
              "    <tr>\n",
              "      <td>1</td>\n",
              "      <td>4.918503</td>\n",
              "      <td>4.606775</td>\n",
              "      <td>00:01</td>\n",
              "    </tr>\n",
              "    <tr>\n",
              "      <td>2</td>\n",
              "      <td>4.686000</td>\n",
              "      <td>4.188460</td>\n",
              "      <td>00:01</td>\n",
              "    </tr>\n",
              "    <tr>\n",
              "      <td>3</td>\n",
              "      <td>4.452606</td>\n",
              "      <td>3.917739</td>\n",
              "      <td>00:01</td>\n",
              "    </tr>\n",
              "    <tr>\n",
              "      <td>4</td>\n",
              "      <td>4.246642</td>\n",
              "      <td>3.745491</td>\n",
              "      <td>00:01</td>\n",
              "    </tr>\n",
              "    <tr>\n",
              "      <td>5</td>\n",
              "      <td>4.075062</td>\n",
              "      <td>3.654919</td>\n",
              "      <td>00:01</td>\n",
              "    </tr>\n",
              "    <tr>\n",
              "      <td>6</td>\n",
              "      <td>3.927884</td>\n",
              "      <td>3.608433</td>\n",
              "      <td>00:01</td>\n",
              "    </tr>\n",
              "    <tr>\n",
              "      <td>7</td>\n",
              "      <td>3.811198</td>\n",
              "      <td>3.586509</td>\n",
              "      <td>00:01</td>\n",
              "    </tr>\n",
              "    <tr>\n",
              "      <td>8</td>\n",
              "      <td>3.715178</td>\n",
              "      <td>3.578170</td>\n",
              "      <td>00:01</td>\n",
              "    </tr>\n",
              "    <tr>\n",
              "      <td>9</td>\n",
              "      <td>3.636295</td>\n",
              "      <td>3.576752</td>\n",
              "      <td>00:01</td>\n",
              "    </tr>\n",
              "  </tbody>\n",
              "</table>"
            ],
            "text/plain": [
              "<IPython.core.display.HTML object>"
            ]
          },
          "metadata": {
            "tags": []
          }
        }
      ]
    },
    {
      "cell_type": "code",
      "metadata": {
        "id": "LmAxjk6fwmXz"
      },
      "source": [
        "learn.save_encoder('textpredict')"
      ],
      "execution_count": 10,
      "outputs": []
    },
    {
      "cell_type": "code",
      "metadata": {
        "colab": {
          "base_uri": "https://localhost:8080/",
          "height": 74
        },
        "id": "5oiVReRn2dSy",
        "outputId": "a7ca1077-6a36-4bee-a646-d8eaaffab70b"
      },
      "source": [
        "dls_clas = TextDataLoaders.from_df(df, \n",
        "                        valid_pct = 0.2, \n",
        "                        text_col = 'Sentence',\n",
        "                        label_col = 'Name', \n",
        "                        bs = 64, \n",
        "                        text_vocab = dls_lm.vocab)"
      ],
      "execution_count": 11,
      "outputs": [
        {
          "output_type": "display_data",
          "data": {
            "text/html": [
              ""
            ],
            "text/plain": [
              "<IPython.core.display.HTML object>"
            ]
          },
          "metadata": {
            "tags": []
          }
        },
        {
          "output_type": "stream",
          "text": [
            "/usr/local/lib/python3.7/dist-packages/numpy/core/_asarray.py:83: VisibleDeprecationWarning: Creating an ndarray from ragged nested sequences (which is a list-or-tuple of lists-or-tuples-or ndarrays with different lengths or shapes) is deprecated. If you meant to do this, you must specify 'dtype=object' when creating the ndarray\n",
            "  return array(a, dtype, copy=False, order=order)\n"
          ],
          "name": "stderr"
        }
      ]
    },
    {
      "cell_type": "code",
      "metadata": {
        "id": "ysjFkOK323YV",
        "colab": {
          "base_uri": "https://localhost:8080/",
          "height": 303
        },
        "outputId": "b394e8ee-5a6a-4fe2-9cb8-a81eb87b099e"
      },
      "source": [
        "learn = text_classifier_learner(dls_clas, AWD_LSTM, drop_mult = 0.5, metrics = accuracy).to_fp16()\n",
        "learn = learn.load_encoder('textpredict')\n",
        "learn.lr_find()"
      ],
      "execution_count": 12,
      "outputs": [
        {
          "output_type": "display_data",
          "data": {
            "text/html": [
              ""
            ],
            "text/plain": [
              "<IPython.core.display.HTML object>"
            ]
          },
          "metadata": {
            "tags": []
          }
        },
        {
          "output_type": "execute_result",
          "data": {
            "text/plain": [
              "SuggestedLRs(lr_min=0.03019951581954956, lr_steep=1.5848931980144698e-06)"
            ]
          },
          "metadata": {
            "tags": []
          },
          "execution_count": 12
        },
        {
          "output_type": "display_data",
          "data": {
            "image/png": "[encoded data removed]",
            "text/plain": [
              "<Figure size 432x288 with 1 Axes>"
            ]
          },
          "metadata": {
            "tags": [],
            "needs_background": "light"
          }
        }
      ]
    },
    {
      "cell_type": "code",
      "metadata": {
        "colab": {
          "base_uri": "https://localhost:8080/",
          "height": 981
        },
        "id": "XEEdhemd-F3e",
        "outputId": "32c9dadc-031d-4fdd-acee-0342383a917b"
      },
      "source": [
        "learn.fit_one_cycle(1, 8.2e-1)\n",
        "learn.freeze_to(-2)\n",
        "learn.fit_one_cycle(1, 9.2e-1)\n",
        "learn.freeze_to(-4)\n",
        "learn.fit_one_cycle(1, 10.2e-1)\n",
        "learn.unfreeze()\n",
        "learn.fit_one_cycle(25, 3e-2)"
      ],
      "execution_count": 13,
      "outputs": [
        {
          "output_type": "display_data",
          "data": {
            "text/html": [
              "<table border=\"1\" class=\"dataframe\">\n",
              "  <thead>\n",
              "    <tr style=\"text-align: left;\">\n",
              "      <th>epoch</th>\n",
              "      <th>train_loss</th>\n",
              "      <th>valid_loss</th>\n",
              "      <th>accuracy</th>\n",
              "      <th>time</th>\n",
              "    </tr>\n",
              "  </thead>\n",
              "  <tbody>\n",
              "    <tr>\n",
              "      <td>0</td>\n",
              "      <td>2.856151</td>\n",
              "      <td>1.035015</td>\n",
              "      <td>0.398467</td>\n",
              "      <td>00:01</td>\n",
              "    </tr>\n",
              "  </tbody>\n",
              "</table>"
            ],
            "text/plain": [
              "<IPython.core.display.HTML object>"
            ]
          },
          "metadata": {
            "tags": []
          }
        },
        {
          "output_type": "display_data",
          "data": {
            "text/html": [
              "<table border=\"1\" class=\"dataframe\">\n",
              "  <thead>\n",
              "    <tr style=\"text-align: left;\">\n",
              "      <th>epoch</th>\n",
              "      <th>train_loss</th>\n",
              "      <th>valid_loss</th>\n",
              "      <th>accuracy</th>\n",
              "      <th>time</th>\n",
              "    </tr>\n",
              "  </thead>\n",
              "  <tbody>\n",
              "    <tr>\n",
              "      <td>0</td>\n",
              "      <td>5.400352</td>\n",
              "      <td>12.858128</td>\n",
              "      <td>0.249042</td>\n",
              "      <td>00:01</td>\n",
              "    </tr>\n",
              "  </tbody>\n",
              "</table>"
            ],
            "text/plain": [
              "<IPython.core.display.HTML object>"
            ]
          },
          "metadata": {
            "tags": []
          }
        },
        {
          "output_type": "display_data",
          "data": {
            "text/html": [
              "<table border=\"1\" class=\"dataframe\">\n",
              "  <thead>\n",
              "    <tr style=\"text-align: left;\">\n",
              "      <th>epoch</th>\n",
              "      <th>train_loss</th>\n",
              "      <th>valid_loss</th>\n",
              "      <th>accuracy</th>\n",
              "      <th>time</th>\n",
              "    </tr>\n",
              "  </thead>\n",
              "  <tbody>\n",
              "    <tr>\n",
              "      <td>0</td>\n",
              "      <td>36.317371</td>\n",
              "      <td>40.500343</td>\n",
              "      <td>0.340996</td>\n",
              "      <td>00:02</td>\n",
              "    </tr>\n",
              "  </tbody>\n",
              "</table>"
            ],
            "text/plain": [
              "<IPython.core.display.HTML object>"
            ]
          },
          "metadata": {
            "tags": []
          }
        },
        {
          "output_type": "display_data",
          "data": {
            "text/html": [
              "<table border=\"1\" class=\"dataframe\">\n",
              "  <thead>\n",
              "    <tr style=\"text-align: left;\">\n",
              "      <th>epoch</th>\n",
              "      <th>train_loss</th>\n",
              "      <th>valid_loss</th>\n",
              "      <th>accuracy</th>\n",
              "      <th>time</th>\n",
              "    </tr>\n",
              "  </thead>\n",
              "  <tbody>\n",
              "    <tr>\n",
              "      <td>0</td>\n",
              "      <td>36.735268</td>\n",
              "      <td>32.955917</td>\n",
              "      <td>0.249042</td>\n",
              "      <td>00:02</td>\n",
              "    </tr>\n",
              "    <tr>\n",
              "      <td>1</td>\n",
              "      <td>34.136147</td>\n",
              "      <td>24.131277</td>\n",
              "      <td>0.252874</td>\n",
              "      <td>00:02</td>\n",
              "    </tr>\n",
              "    <tr>\n",
              "      <td>2</td>\n",
              "      <td>28.122047</td>\n",
              "      <td>13.500073</td>\n",
              "      <td>0.283525</td>\n",
              "      <td>00:02</td>\n",
              "    </tr>\n",
              "    <tr>\n",
              "      <td>3</td>\n",
              "      <td>20.656063</td>\n",
              "      <td>4.420598</td>\n",
              "      <td>0.620690</td>\n",
              "      <td>00:02</td>\n",
              "    </tr>\n",
              "    <tr>\n",
              "      <td>4</td>\n",
              "      <td>14.960490</td>\n",
              "      <td>52.404934</td>\n",
              "      <td>0.750958</td>\n",
              "      <td>00:02</td>\n",
              "    </tr>\n",
              "    <tr>\n",
              "      <td>5</td>\n",
              "      <td>11.133197</td>\n",
              "      <td>nan</td>\n",
              "      <td>0.708812</td>\n",
              "      <td>00:02</td>\n",
              "    </tr>\n",
              "    <tr>\n",
              "      <td>6</td>\n",
              "      <td>8.454152</td>\n",
              "      <td>112.656784</td>\n",
              "      <td>0.252874</td>\n",
              "      <td>00:02</td>\n",
              "    </tr>\n",
              "    <tr>\n",
              "      <td>7</td>\n",
              "      <td>6.584903</td>\n",
              "      <td>2.355083</td>\n",
              "      <td>0.639847</td>\n",
              "      <td>00:02</td>\n",
              "    </tr>\n",
              "    <tr>\n",
              "      <td>8</td>\n",
              "      <td>5.293323</td>\n",
              "      <td>2.650908</td>\n",
              "      <td>0.747126</td>\n",
              "      <td>00:02</td>\n",
              "    </tr>\n",
              "    <tr>\n",
              "      <td>9</td>\n",
              "      <td>4.310366</td>\n",
              "      <td>3.334337</td>\n",
              "      <td>0.750958</td>\n",
              "      <td>00:02</td>\n",
              "    </tr>\n",
              "    <tr>\n",
              "      <td>10</td>\n",
              "      <td>3.591117</td>\n",
              "      <td>10.798904</td>\n",
              "      <td>0.750958</td>\n",
              "      <td>00:02</td>\n",
              "    </tr>\n",
              "    <tr>\n",
              "      <td>11</td>\n",
              "      <td>3.073703</td>\n",
              "      <td>30.430798</td>\n",
              "      <td>0.750958</td>\n",
              "      <td>00:02</td>\n",
              "    </tr>\n",
              "    <tr>\n",
              "      <td>12</td>\n",
              "      <td>2.633154</td>\n",
              "      <td>9.025231</td>\n",
              "      <td>0.750958</td>\n",
              "      <td>00:02</td>\n",
              "    </tr>\n",
              "    <tr>\n",
              "      <td>13</td>\n",
              "      <td>2.287490</td>\n",
              "      <td>7.464730</td>\n",
              "      <td>0.750958</td>\n",
              "      <td>00:02</td>\n",
              "    </tr>\n",
              "    <tr>\n",
              "      <td>14</td>\n",
              "      <td>2.047326</td>\n",
              "      <td>4.349725</td>\n",
              "      <td>0.750958</td>\n",
              "      <td>00:02</td>\n",
              "    </tr>\n",
              "    <tr>\n",
              "      <td>15</td>\n",
              "      <td>1.831923</td>\n",
              "      <td>5.775729</td>\n",
              "      <td>0.750958</td>\n",
              "      <td>00:02</td>\n",
              "    </tr>\n",
              "    <tr>\n",
              "      <td>16</td>\n",
              "      <td>1.676660</td>\n",
              "      <td>1.913724</td>\n",
              "      <td>0.750958</td>\n",
              "      <td>00:02</td>\n",
              "    </tr>\n",
              "    <tr>\n",
              "      <td>17</td>\n",
              "      <td>1.533464</td>\n",
              "      <td>13.333086</td>\n",
              "      <td>0.750958</td>\n",
              "      <td>00:02</td>\n",
              "    </tr>\n",
              "    <tr>\n",
              "      <td>18</td>\n",
              "      <td>1.411494</td>\n",
              "      <td>9.868478</td>\n",
              "      <td>0.750958</td>\n",
              "      <td>00:02</td>\n",
              "    </tr>\n",
              "    <tr>\n",
              "      <td>19</td>\n",
              "      <td>1.340991</td>\n",
              "      <td>0.590273</td>\n",
              "      <td>0.750958</td>\n",
              "      <td>00:02</td>\n",
              "    </tr>\n",
              "    <tr>\n",
              "      <td>20</td>\n",
              "      <td>1.268539</td>\n",
              "      <td>0.999468</td>\n",
              "      <td>0.750958</td>\n",
              "      <td>00:02</td>\n",
              "    </tr>\n",
              "    <tr>\n",
              "      <td>21</td>\n",
              "      <td>1.223176</td>\n",
              "      <td>2.859278</td>\n",
              "      <td>0.750958</td>\n",
              "      <td>00:02</td>\n",
              "    </tr>\n",
              "    <tr>\n",
              "      <td>22</td>\n",
              "      <td>1.190779</td>\n",
              "      <td>6.459545</td>\n",
              "      <td>0.750958</td>\n",
              "      <td>00:02</td>\n",
              "    </tr>\n",
              "    <tr>\n",
              "      <td>23</td>\n",
              "      <td>1.179040</td>\n",
              "      <td>0.603580</td>\n",
              "      <td>0.750958</td>\n",
              "      <td>00:02</td>\n",
              "    </tr>\n",
              "    <tr>\n",
              "      <td>24</td>\n",
              "      <td>1.150371</td>\n",
              "      <td>0.820584</td>\n",
              "      <td>0.750958</td>\n",
              "      <td>00:02</td>\n",
              "    </tr>\n",
              "  </tbody>\n",
              "</table>"
            ],
            "text/plain": [
              "<IPython.core.display.HTML object>"
            ]
          },
          "metadata": {
            "tags": []
          }
        }
      ]
    },
    {
      "cell_type": "code",
      "metadata": {
        "colab": {
          "base_uri": "https://localhost:8080/",
          "height": 35
        },
        "id": "Psiorw72Cu2D",
        "outputId": "766cd354-cc06-44f7-82b6-1312abd1c537"
      },
      "source": [
        "learn.predict(\"north of the wall with the wildlings\")"
      ],
      "execution_count": 15,
      "outputs": [
        {
          "output_type": "display_data",
          "data": {
            "text/html": [
              ""
            ],
            "text/plain": [
              "<IPython.core.display.HTML object>"
            ]
          },
          "metadata": {
            "tags": []
          }
        },
        {
          "output_type": "execute_result",
          "data": {
            "text/plain": [
              "('jon', tensor(0), tensor([0.8183, 0.1817]))"
            ]
          },
          "metadata": {
            "tags": []
          },
          "execution_count": 15
        }
      ]
    }
  ]
}